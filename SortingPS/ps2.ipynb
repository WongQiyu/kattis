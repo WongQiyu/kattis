{
 "cells": [
  {
   "cell_type": "code",
   "execution_count": 1,
   "id": "638fe8f2",
   "metadata": {},
   "outputs": [],
   "source": [
    "lst = [[1,2,3,4], [10,2,3,4], [6,2,3,4]]\n",
    "j = 3\n",
    "\n",
    "while j < min(7, 3) and lst[j][3] == 4:\n",
    "    print('hi')"
   ]
  },
  {
   "cell_type": "code",
   "execution_count": 2,
   "id": "6b522496",
   "metadata": {},
   "outputs": [
    {
     "ename": "IndexError",
     "evalue": "list index out of range",
     "output_type": "error",
     "traceback": [
      "\u001b[0;31m---------------------------------------------------------------------------\u001b[0m",
      "\u001b[0;31mIndexError\u001b[0m                                Traceback (most recent call last)",
      "\u001b[0;32m<ipython-input-2-439b205fcf6f>\u001b[0m in \u001b[0;36m<module>\u001b[0;34m\u001b[0m\n\u001b[0;32m----> 1\u001b[0;31m \u001b[0mlst\u001b[0m\u001b[0;34m[\u001b[0m\u001b[0mj\u001b[0m\u001b[0;34m]\u001b[0m\u001b[0;34m[\u001b[0m\u001b[0;36m3\u001b[0m\u001b[0;34m]\u001b[0m \u001b[0;34m==\u001b[0m \u001b[0;36m4\u001b[0m\u001b[0;34m\u001b[0m\u001b[0;34m\u001b[0m\u001b[0m\n\u001b[0m",
      "\u001b[0;31mIndexError\u001b[0m: list index out of range"
     ]
    }
   ],
   "source": [
    "lst[j][3] == 4"
   ]
  },
  {
   "cell_type": "code",
   "execution_count": 3,
   "id": "89290073",
   "metadata": {},
   "outputs": [
    {
     "data": {
      "text/plain": [
       "False"
      ]
     },
     "execution_count": 3,
     "metadata": {},
     "output_type": "execute_result"
    }
   ],
   "source": [
    "j < min(7, 3)"
   ]
  },
  {
   "cell_type": "code",
   "execution_count": 10,
   "id": "f646c0b1",
   "metadata": {},
   "outputs": [],
   "source": [
    "def merge_sort_key(a, key):\n",
    "    n = len(a)\n",
    "    if n == 1 or n == 0:\n",
    "        return a\n",
    "    mid = n//2\n",
    "    left = a[:mid]\n",
    "    right = a[mid:]\n",
    "    merge_sort_key(left, key)\n",
    "    merge_sort_key(right, key)\n",
    "    i = j = k = 0\n",
    "    while i < len(left) and j < len(right):\n",
    "        check = left[i] <= right[j] if not key else left[i][key] <= right[j][key]\n",
    "        if check:\n",
    "            a[k] = left[i]\n",
    "            i += 1\n",
    "        else:\n",
    "            a[k] = right[j]\n",
    "            j += 1\n",
    "        k += 1\n",
    "    while i < len(left):\n",
    "        a[k] = left[i]\n",
    "        k += 1\n",
    "        i += 1\n",
    "    while j < len(right):\n",
    "        a[k] = right[j]\n",
    "        k += 1\n",
    "        j += 1\n",
    "    return a\n"
   ]
  },
  {
   "cell_type": "code",
   "execution_count": 11,
   "id": "e435e216",
   "metadata": {},
   "outputs": [
    {
     "data": {
      "text/plain": [
       "[[1, 2, 3, 4]]"
      ]
     },
     "execution_count": 11,
     "metadata": {},
     "output_type": "execute_result"
    }
   ],
   "source": [
    "merge_sort_key([[1,2,3,4]],3)"
   ]
  },
  {
   "cell_type": "code",
   "execution_count": 13,
   "id": "6e8b7186",
   "metadata": {},
   "outputs": [
    {
     "data": {
      "text/plain": [
       "1"
      ]
     },
     "execution_count": 13,
     "metadata": {},
     "output_type": "execute_result"
    }
   ],
   "source": [
    "len(merge_sort_key([[]],3))"
   ]
  },
  {
   "cell_type": "code",
   "execution_count": null,
   "id": "2fb499fd",
   "metadata": {},
   "outputs": [],
   "source": []
  }
 ],
 "metadata": {
  "kernelspec": {
   "display_name": "Python 3",
   "language": "python",
   "name": "python3"
  },
  "language_info": {
   "codemirror_mode": {
    "name": "ipython",
    "version": 3
   },
   "file_extension": ".py",
   "mimetype": "text/x-python",
   "name": "python",
   "nbconvert_exporter": "python",
   "pygments_lexer": "ipython3",
   "version": "3.8.8"
  }
 },
 "nbformat": 4,
 "nbformat_minor": 5
}
